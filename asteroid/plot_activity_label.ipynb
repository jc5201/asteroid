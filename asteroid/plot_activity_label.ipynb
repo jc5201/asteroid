{
 "cells": [
  {
   "cell_type": "code",
   "execution_count": 54,
   "id": "ce84510f",
   "metadata": {},
   "outputs": [],
   "source": [
    "from pathlib import Path\n",
    "import torch.utils.data\n",
    "import random\n",
    "import torch\n",
    "import tqdm\n",
    "import soundfile as sf\n",
    "\n",
    "from torchaudio import transforms\n",
    "import librosa\n",
    "from itertools import product\n",
    "import numpy as np\n",
    "import scipy"
   ]
  },
  {
   "cell_type": "code",
   "execution_count": 55,
   "id": "43d6c959",
   "metadata": {},
   "outputs": [],
   "source": [
    "def generate_label(audio):\n",
    "        # np, [c, t]\n",
    "        channels = audio.shape[0]\n",
    "        rms_fig = librosa.feature.rms(y=audio.numpy()) \n",
    "        #[c, 1, 313]\n",
    "\n",
    "        rms_tensor = torch.tensor(rms_fig).permute(0, 2, 1)\n",
    "        # [channel, time, 1]\n",
    "        rms_trim = rms_tensor.expand(-1, -1, 512).reshape(channels, -1)[:, :160000]\n",
    "        # [channel, time]\n",
    "        k = int(audio.shape[1]*0.8)\n",
    "        min_threshold, _ = torch.kthvalue(rms_trim[0, :], k)\n",
    "\n",
    "        label = (rms_trim > min_threshold).type(torch.float)\n",
    "        label = torch.Tensor(scipy.ndimage.binary_dilation(label.numpy(), iterations=3)).type(torch.float) \n",
    "        \n",
    "        time = int(audio.shape[1]//1000) # 0.1 sec\n",
    "        label_index_lst = torch.nonzero((label[:,1:] - label[:,:-1]) == 1).tolist()\n",
    "        square_labels = torch.zeros_like(label)\n",
    "        \n",
    "        for idx in label_index_lst:\n",
    "            square_labels[idx[0],(idx[1]):(idx[1] + time)] = 1.0\n",
    "    \n",
    "        #[channel, time]\n",
    "        return square_labels, label"
   ]
  },
  {
   "cell_type": "code",
   "execution_count": 56,
   "id": "b7996d61",
   "metadata": {},
   "outputs": [],
   "source": [
    " def generate_slider_label(audio):\n",
    "        # np, [1, 313]\n",
    "        channels = audio.shape[0]\n",
    "        rms_fig = librosa.feature.rms(y=audio.numpy())  \n",
    "        #[c, 1, 313]\n",
    "        rms_tensor = torch.tensor(rms_fig).permute(0, 2, 1)\n",
    "        # [channel, time, 1]\n",
    "        rms_trim = rms_tensor.expand(-1, -1, 512).reshape(channels, -1)[:, :160000]\n",
    "        # [channel, time]\n",
    "\n",
    "        min_threshold = (torch.max(rms_trim) + torch.min(rms_trim))/2\n",
    "\n",
    "        label = (rms_trim > min_threshold).type(torch.float) \n",
    "        \n",
    "        time = int(audio.shape[1]//1000) # 0.1 sec\n",
    "        label_index_lst = torch.nonzero((label[:,1:] - label[:,:-1]) == 1).tolist()\n",
    "        square_labels = torch.zeros_like(label)\n",
    "        \n",
    "        for idx in label_index_lst:\n",
    "            square_labels[idx[0],(idx[1] + 1):(idx[1] + time)] = 1.0\n",
    "    \n",
    "        #[channel, time]\n",
    "        return square_labels, label"
   ]
  },
  {
   "cell_type": "code",
   "execution_count": 57,
   "id": "5094951e",
   "metadata": {},
   "outputs": [],
   "source": [
    "aueio_file_path = \"/hdd/hdd1/mimii/6dB/slider/id_00/normal/00000021.wav\"\n",
    "aueio_file_path2= \"/hdd/hdd1/mimii/6dB/slider/id_02/normal/00000100.wav\""
   ]
  },
  {
   "cell_type": "code",
   "execution_count": 58,
   "id": "900d16ab",
   "metadata": {},
   "outputs": [],
   "source": [
    "np_audio, _ = sf.read(aueio_file_path)\n",
    "audio = torch.tensor(np_audio.T, dtype=torch.float)[:, :]\n",
    "\n",
    "np_audio2, _ = sf.read(aueio_file_path2)\n",
    "audio2 = torch.tensor(np_audio2.T, dtype=torch.float)[:, :]"
   ]
  },
  {
   "cell_type": "code",
   "execution_count": 59,
   "id": "74e29f03",
   "metadata": {},
   "outputs": [],
   "source": [
    "square_label, label = generate_label(audio)\n",
    "square_label2, label2 = generate_label(audio2)"
   ]
  },
  {
   "cell_type": "code",
   "execution_count": 60,
   "id": "5adaf325",
   "metadata": {},
   "outputs": [
    {
     "name": "stdout",
     "output_type": "stream",
     "text": [
      "torch.Size([8, 160000])\n",
      "torch.Size([8, 160000])\n"
     ]
    }
   ],
   "source": [
    "print(square_label.shape)\n",
    "print(audio.shape)"
   ]
  },
  {
   "cell_type": "code",
   "execution_count": 61,
   "id": "ea99bd01",
   "metadata": {},
   "outputs": [
    {
     "name": "stdout",
     "output_type": "stream",
     "text": [
      "tensor(6699.)\n",
      "tensor(33870.)\n",
      "torch.Size([8, 160000])\n"
     ]
    }
   ],
   "source": [
    "print(torch.sum(label[0,:]*label2[0,:]))\n",
    "print(torch.sum(label[0,:]))\n",
    "print(label.shape)"
   ]
  },
  {
   "cell_type": "code",
   "execution_count": 62,
   "id": "e4c063ca",
   "metadata": {},
   "outputs": [
    {
     "name": "stdout",
     "output_type": "stream",
     "text": [
      "tensor(0.1949)\n",
      "tensor(0.1963)\n"
     ]
    }
   ],
   "source": [
    "overlap_ratio = torch.sum(label[0,:] * label2[0,:])/label.shape[-1]\n",
    "\n",
    "overlap_ratio = (torch.sum(label[0,:] * label2[0,:])/torch.sum(label[0,:]) + torch.sum(label[0,:] * label2[0,:])/torch.sum(label[1,:]))/2\n",
    "print(torch.sum(label[0,:] * label2[0,:])/torch.sum(label[1,:]))\n",
    "print(overlap_ratio)\n"
   ]
  },
  {
   "cell_type": "code",
   "execution_count": 63,
   "id": "30b3c9a6",
   "metadata": {},
   "outputs": [],
   "source": [
    "time = 16000\n",
    "dur = 10"
   ]
  },
  {
   "cell_type": "markdown",
   "id": "0c83700e",
   "metadata": {},
   "source": [
    "## plot waveform and activity signal ##"
   ]
  },
  {
   "cell_type": "code",
   "execution_count": 64,
   "id": "35953770",
   "metadata": {},
   "outputs": [
    {
     "data": {
      "image/png": "[encoded data removed]",
      "text/plain": [
       "<Figure size 640x480 with 1 Axes>"
      ]
     },
     "metadata": {},
     "output_type": "display_data"
    }
   ],
   "source": [
    "import matplotlib.pyplot as plt\n",
    "plt.figure()\n",
    "plt.plot(audio[0,time:time*dur], color = 'grey')\n",
    "# plt.plot(square_label[0,time:time*dur], color = 'green')\n",
    "plt.plot(label[0,time:time*dur], color = 'orange')\n",
    "plt.show()"
   ]
  },
  {
   "cell_type": "code",
   "execution_count": 65,
   "id": "82dc2d99",
   "metadata": {},
   "outputs": [
    {
     "data": {
      "image/png": "[encoded data removed]",
      "text/plain": [
       "<Figure size 640x480 with 1 Axes>"
      ]
     },
     "metadata": {},
     "output_type": "display_data"
    }
   ],
   "source": [
    "plt.figure()\n",
    "plt.plot(audio2[0,time:time*dur], color = 'grey')\n",
    "# plt.plot(square_label[0,time:time*dur], color = 'green')\n",
    "plt.plot(label2[0,time:time*dur], color = 'orange')\n",
    "plt.show()"
   ]
  },
  {
   "cell_type": "code",
   "execution_count": null,
   "id": "4d14f1ab",
   "metadata": {},
   "outputs": [],
   "source": []
  },
  {
   "cell_type": "code",
   "execution_count": null,
   "id": "16f1b57f",
   "metadata": {},
   "outputs": [],
   "source": []
  },
  {
   "cell_type": "code",
   "execution_count": null,
   "id": "fada951b",
   "metadata": {},
   "outputs": [],
   "source": []
  }
 ],
 "metadata": {
  "kernelspec": {
   "display_name": "Python 3 (ipykernel)",
   "language": "python",
   "name": "python3"
  },
  "language_info": {
   "codemirror_mode": {
    "name": "ipython",
    "version": 3
   },
   "file_extension": ".py",
   "mimetype": "text/x-python",
   "name": "python",
   "nbconvert_exporter": "python",
   "pygments_lexer": "ipython3",
   "version": "3.7.13"
  }
 },
 "nbformat": 4,
 "nbformat_minor": 5
}
