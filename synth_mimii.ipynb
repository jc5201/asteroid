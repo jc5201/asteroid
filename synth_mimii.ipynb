{
 "cells": [
  {
   "cell_type": "code",
   "execution_count": null,
   "metadata": {},
   "outputs": [],
   "source": [
    "from IPython.display import display, Audio\n",
    "\n",
    "from asteroid.models import BaseModel\n",
    "import soundfile as sf\n",
    "import numpy as np\n",
    "import matplotlib.pyplot as plt\n",
    "import librosa\n",
    "import librosa.display\n",
    "import torch\n",
    "from torchaudio import transforms"
   ]
  },
  {
   "cell_type": "code",
   "execution_count": null,
   "metadata": {},
   "outputs": [],
   "source": [
    "def show_magspec(waveform, **kw):\n",
    "    return librosa.display.specshow(\n",
    "        librosa.amplitude_to_db(np.abs(librosa.stft(waveform))),\n",
    "        y_axis=\"log\", x_axis=\"time\",\n",
    "        **kw\n",
    "    )"
   ]
  },
  {
   "cell_type": "code",
   "execution_count": null,
   "metadata": {},
   "outputs": [],
   "source": [
    "model = BaseModel.from_pretrained(\"/home/kjc/asteroid/egs/mimii/X-UMX/x-umx_outputs/best_model.pth\")\n",
    "model._return_time_signals = True"
   ]
  },
  {
   "cell_type": "code",
   "execution_count": null,
   "metadata": {},
   "outputs": [],
   "source": [
    "fan_raw, sr = sf.read(\"/home/kjc/mimii/6dB/fan/id_00/normal/00000000.wav\", dtype=\"float32\")\n",
    "fan = fan_raw.transpose().reshape(1, 8, 160000)\n",
    "\n",
    "slider_raw, _ = sf.read(\"/home/kjc/mimii/6dB/slider/id_00/normal/00000000.wav\", dtype=\"float32\")\n",
    "slider = slider_raw.transpose().reshape(1, 8, 160000)\n",
    "\n",
    "pump_raw, _ = sf.read(\"/home/kjc/mimii/6dB/pump/id_00/normal/00000000.wav\", dtype=\"float32\")\n",
    "pump = pump_raw.transpose().reshape(1, 8, 160000)\n",
    "\n",
    "valve_raw, _ = sf.read(\"/home/kjc/mimii/6dB/valve/id_00/normal/00000000.wav\", dtype=\"float32\")\n",
    "valve = valve_raw.transpose().reshape(1, 8, 160000)\n",
    "\n",
    "\n",
    "# conv_filter, sr = sf.read(\"/home/kjc/IR/HIGH DAMPING CAVE E001 M2S.wav\", dtype=\"float32\")\n",
    "# resample = transforms.Resample(sr, 16000)\n",
    "# conv_filter = resample(conv_filter)\n",
    "\n",
    "\n",
    "# conv_slider = torch.nn.functional.conv1d(slider, conv_filter)[0]\n",
    "\n",
    "mixture = fan[:, 0, :] + slider[:, 1, :] + valve[:, 2, :] + pump[:, 3, :]\n"
   ]
  },
  {
   "cell_type": "code",
   "execution_count": null,
   "metadata": {},
   "outputs": [],
   "source": [
    "fig, ax = plt.subplots(2, 2, figsize=(15, 10))\n",
    "show_magspec(fan[0, 0, :], sr=16000, ax=ax[0][0])\n",
    "show_magspec(slider[0, 0, :], sr=16000, ax=ax[0][1])\n",
    "show_magspec(pump[0, 0, :], sr=16000, ax=ax[1][0])\n",
    "show_magspec(valve[0, 0, :], sr=16000, ax=ax[1][1])\n"
   ]
  },
  {
   "cell_type": "code",
   "execution_count": null,
   "metadata": {},
   "outputs": [],
   "source": [
    "show_magspec(mixture[0, 0, :], sr=16000, ax=ax[0][0])"
   ]
  },
  {
   "cell_type": "code",
   "execution_count": null,
   "metadata": {},
   "outputs": [],
   "source": [
    "show_magspec(conv_slider[0, 0, :], sr=16000, ax=ax[0][0])"
   ]
  },
  {
   "cell_type": "code",
   "execution_count": null,
   "metadata": {
    "scrolled": false
   },
   "outputs": [],
   "source": []
  },
  {
   "cell_type": "code",
   "execution_count": null,
   "metadata": {},
   "outputs": [],
   "source": []
  }
 ],
 "metadata": {
  "interpreter": {
   "hash": "c606ff617a80a9ff66a17025901681bef26bde9372649688b98fdffed877919c"
  },
  "kernelspec": {
   "display_name": "Python 3",
   "language": "python",
   "name": "python3"
  },
  "language_info": {
   "codemirror_mode": {
    "name": "ipython",
    "version": 3
   },
   "file_extension": ".py",
   "mimetype": "text/x-python",
   "name": "python",
   "nbconvert_exporter": "python",
   "pygments_lexer": "ipython3",
   "version": "3.8.12"
  }
 },
 "nbformat": 4,
 "nbformat_minor": 2
}
